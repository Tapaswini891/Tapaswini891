{
  "cells": [
    {
      "cell_type": "markdown",
      "metadata": {
        "id": "view-in-github",
        "colab_type": "text"
      },
      "source": [
        "<a href=\"https://colab.research.google.com/github/Tapaswini891/Tapaswini891/blob/main/chapter_appendix-tools-for-deep-learning/jupyter.ipynb\" target=\"_parent\"><img src=\"https://colab.research.google.com/assets/colab-badge.svg\" alt=\"Open In Colab\"/></a>"
      ]
    },
    {
      "cell_type": "markdown",
      "id": "31d9a4c9",
      "metadata": {
        "origin_pos": 0,
        "id": "31d9a4c9"
      },
      "source": [
        "# Using Jupyter Notebooks\n",
        ":label:`sec_jupyter`\n",
        "\n",
        "\n",
        "This section describes how to edit and run the code\n",
        "in each section of this book\n",
        "using the Jupyter Notebook. Make sure you have\n",
        "installed Jupyter and downloaded the\n",
        "code as described in\n",
        ":ref:`chap_installation`.\n",
        "If you want to know more about Jupyter see the excellent tutorial in\n",
        "their [documentation](https://jupyter.readthedocs.io/en/latest/).\n",
        "\n",
        "\n",
        "## Editing and Running the Code Locally\n",
        "\n",
        "Suppose that the local path of the book's code is `xx/yy/d2l-en/`. Use the shell to change the directory to this path (`cd xx/yy/d2l-en`) and run the command `jupyter notebook`. If your browser does not do this automatically, open http://localhost:8888 and you will see the interface of Jupyter and all the folders containing the code of the book, as shown in :numref:`fig_jupyter00`.\n",
        "\n",
        "![The folders containing the code of this book.](https://github.com/d2l-ai/d2l-en-colab/blob/master/img/jupyter00.png?raw=1)\n",
        ":width:`600px`\n",
        ":label:`fig_jupyter00`\n",
        "\n",
        "\n",
        "You can access the notebook files by clicking on the folder displayed on the webpage.\n",
        "They usually have the suffix \".ipynb\".\n",
        "For the sake of brevity, we create a temporary \"test.ipynb\" file.\n",
        "The content displayed after you click it is\n",
        "shown in :numref:`fig_jupyter01`.\n",
        "This notebook includes a markdown cell and a code cell. The content in the markdown cell includes \"This Is a Title\" and \"This is text.\".\n",
        "The code cell contains two lines of Python code.\n",
        "\n",
        "![Markdown and code cells in the \"text.ipynb\" file.](https://github.com/d2l-ai/d2l-en-colab/blob/master/img/jupyter01.png?raw=1)\n",
        ":width:`600px`\n",
        ":label:`fig_jupyter01`\n",
        "\n",
        "\n",
        "Double click on the markdown cell to enter edit mode.\n",
        "Add a new text string \"Hello world.\" at the end of the cell, as shown in :numref:`fig_jupyter02`.\n",
        "\n",
        "![Edit the markdown cell.](https://github.com/d2l-ai/d2l-en-colab/blob/master/img/jupyter02.png?raw=1)\n",
        ":width:`600px`\n",
        ":label:`fig_jupyter02`\n",
        "\n",
        "\n",
        "As demonstrated in :numref:`fig_jupyter03`,\n",
        "click \"Cell\" $\\rightarrow$ \"Run Cells\" in the menu bar to run the edited cell.\n",
        "\n",
        "![Run the cell.](https://github.com/d2l-ai/d2l-en-colab/blob/master/img/jupyter03.png?raw=1)\n",
        ":width:`600px`\n",
        ":label:`fig_jupyter03`\n",
        "\n",
        "After running, the markdown cell is shown in :numref:`fig_jupyter04`.\n",
        "\n",
        "![The markdown cell after running.](https://github.com/d2l-ai/d2l-en-colab/blob/master/img/jupyter04.png?raw=1)\n",
        ":width:`600px`\n",
        ":label:`fig_jupyter04`\n",
        "\n",
        "\n",
        "Next, click on the code cell. Multiply the elements by 2 after the last line of code, as shown in :numref:`fig_jupyter05`.\n",
        "\n",
        "![Edit the code cell.](https://github.com/d2l-ai/d2l-en-colab/blob/master/img/jupyter05.png?raw=1)\n",
        ":width:`600px`\n",
        ":label:`fig_jupyter05`\n",
        "\n",
        "\n",
        "You can also run the cell with a shortcut (\"Ctrl + Enter\" by default) and obtain the output result from :numref:`fig_jupyter06`.\n",
        "\n",
        "![Run the code cell to obtain the output.](https://github.com/d2l-ai/d2l-en-colab/blob/master/img/jupyter06.png?raw=1)\n",
        ":width:`600px`\n",
        ":label:`fig_jupyter06`\n",
        "\n",
        "\n",
        "When a notebook contains more cells, we can click \"Kernel\" $\\rightarrow$ \"Restart & Run All\" in the menu bar to run all the cells in the entire notebook. By clicking \"Help\" $\\rightarrow$ \"Edit Keyboard Shortcuts\" in the menu bar, you can edit the shortcuts according to your preferences.\n",
        "\n",
        "## Advanced Options\n",
        "\n",
        "Beyond local editing two things are quite important: editing the notebooks in the markdown format and running Jupyter remotely.\n",
        "The latter matters when we want to run the code on a faster server.\n",
        "The former matters since Jupyter's native ipynb format stores a lot of auxiliary data that is\n",
        "irrelevant to the content,\n",
        "mostly related to how and where the code is run.\n",
        "This is confusing for Git, making\n",
        "reviewing contributions very difficult.\n",
        "Fortunately there is an alternative---native editing in the markdown format.\n",
        "\n",
        "### Markdown Files in Jupyter\n",
        "\n",
        "If you wish to contribute to the content of this book, you need to modify the\n",
        "source file (md file, not ipynb file) on GitHub.\n",
        "Using the notedown plugin we\n",
        "can modify notebooks in the md format directly in Jupyter.\n",
        "\n",
        "\n",
        "First, install the notedown plugin, run the Jupyter Notebook, and load the plugin:\n",
        "\n",
        "```\n",
        "pip install d2l-notedown  # You may need to uninstall the original notedown.\n",
        "jupyter notebook --NotebookApp.contents_manager_class='notedown.NotedownContentsManager'\n",
        "```\n",
        "\n",
        "You may also turn on the notedown plugin by default whenever you run the Jupyter Notebook.\n",
        "First, generate a Jupyter Notebook configuration file (if it has already been generated, you can skip this step).\n",
        "\n",
        "```\n",
        "jupyter notebook --generate-config\n",
        "```\n",
        "\n",
        "Then, add the following line to the end of the Jupyter Notebook configuration file (for Linux or macOS, usually in the path `~/.jupyter/jupyter_notebook_config.py`):\n",
        "\n",
        "```\n",
        "c.NotebookApp.contents_manager_class = 'notedown.NotedownContentsManager'\n",
        "```\n",
        "\n",
        "After that, you only need to run the `jupyter notebook` command to turn on the notedown plugin by default.\n",
        "\n",
        "### Running Jupyter Notebooks on a Remote Server\n",
        "\n",
        "Sometimes, you may want to run Jupyter notebooks on a remote server and access it through a browser on your local computer. If Linux or macOS is installed on your local machine (Windows can also support this function through third-party software such as PuTTY), you can use port forwarding:\n",
        "\n",
        "```\n",
        "ssh myserver -L 8888:localhost:8888\n",
        "```\n",
        "\n",
        "The above string `myserver` is the address of the remote server.\n",
        "Then we can use http://localhost:8888 to access the remote server `myserver` that runs Jupyter notebooks. We will detail on how to run Jupyter notebooks on AWS instances\n",
        "later in this appendix.\n",
        "\n",
        "### Timing\n",
        "\n",
        "We can use the `ExecuteTime` plugin to time the execution of each code cell in Jupyter notebooks.\n",
        "Use the following commands to install the plugin:\n",
        "\n",
        "```\n",
        "pip install jupyter_contrib_nbextensions\n",
        "jupyter contrib nbextension install --user\n",
        "jupyter nbextension enable execute_time/ExecuteTime\n",
        "```\n",
        "\n",
        "## Summary\n",
        "\n",
        "* Using the Jupyter Notebook tool, we can edit, run, and contribute to each section of the book.\n",
        "* We can run Jupyter notebooks on remote servers using port forwarding.\n",
        "\n",
        "\n",
        "## Exercises\n",
        "\n",
        "1. Edit and run the code in this book with the Jupyter Notebook on your local machine.\n",
        "1. Edit and run the code in this book with the Jupyter Notebook *remotely* via port forwarding.\n",
        "1. Compare the running time of the operations $\\mathbf{A}^\\top \\mathbf{B}$ and $\\mathbf{A} \\mathbf{B}$ for two square matrices in $\\mathbb{R}^{1024 \\times 1024}$. Which one is faster?\n",
        "\n",
        "\n",
        "[Discussions](https://discuss.d2l.ai/t/421)\n"
      ]
    },
    {
      "cell_type": "code",
      "source": [],
      "metadata": {
        "id": "E8-1-63mPYXf"
      },
      "id": "E8-1-63mPYXf",
      "execution_count": null,
      "outputs": []
    },
    {
      "cell_type": "markdown",
      "source": [
        "!pip install pyspark\n",
        "\n"
      ],
      "metadata": {
        "id": "s93--nLP0l7v"
      },
      "id": "s93--nLP0l7v"
    },
    {
      "cell_type": "markdown",
      "source": [],
      "metadata": {
        "id": "RpEFXy2z0ueQ"
      },
      "id": "RpEFXy2z0ueQ"
    },
    {
      "cell_type": "code",
      "source": [
        "!pip install pyspark\n",
        "\n"
      ],
      "metadata": {
        "colab": {
          "base_uri": "https://localhost:8080/"
        },
        "id": "6FpgnQ0u00lg",
        "outputId": "1a2708ed-01f2-4484-9f4e-b19a4d3e1d24"
      },
      "id": "6FpgnQ0u00lg",
      "execution_count": null,
      "outputs": [
        {
          "output_type": "stream",
          "name": "stdout",
          "text": [
            "Requirement already satisfied: pyspark in /usr/local/lib/python3.12/dist-packages (3.5.1)\n",
            "Requirement already satisfied: py4j==0.10.9.7 in /usr/local/lib/python3.12/dist-packages (from pyspark) (0.10.9.7)\n"
          ]
        }
      ]
    },
    {
      "cell_type": "code",
      "source": [
        "from pyspark.sql import SparkSession\n",
        "spark=SparkSession.builder.appName(\"myfirstsparkapp\").getOrCreate()\n"
      ],
      "metadata": {
        "id": "oJ6nY1vT070-"
      },
      "id": "oJ6nY1vT070-",
      "execution_count": 3,
      "outputs": []
    },
    {
      "cell_type": "code",
      "source": [
        "df_csv = spark.read.csv(\"/emp.csv\", inferSchema= True, header=True)"
      ],
      "metadata": {
        "id": "nz2o4Ave1UZo"
      },
      "id": "nz2o4Ave1UZo",
      "execution_count": 42,
      "outputs": []
    },
    {
      "cell_type": "code",
      "source": [
        "from google.colab import drive\n",
        "drive.mount('/content/drive')"
      ],
      "metadata": {
        "id": "e7PlUKBTP54B"
      },
      "id": "e7PlUKBTP54B",
      "execution_count": null,
      "outputs": []
    },
    {
      "cell_type": "code",
      "source": [
        "df_filter = df_csv.filter(df_csv.salary > 3000)\n",
        "df_filter.show()"
      ],
      "metadata": {
        "colab": {
          "base_uri": "https://localhost:8080/"
        },
        "id": "nP2Xg6go_Xpx",
        "outputId": "5ccaa589-5e54-4673-a251-3cf344890238"
      },
      "id": "nP2Xg6go_Xpx",
      "execution_count": null,
      "outputs": [
        {
          "output_type": "stream",
          "name": "stdout",
          "text": [
            "+------+-----------+------+\n",
            "|  Name|employee_id|salary|\n",
            "+------+-----------+------+\n",
            "| suman|          5|  7500|\n",
            "|  uman|          6|  9650|\n",
            "| harry|          7|  7230|\n",
            "|   ben|          8|  3710|\n",
            "|harlow|          9|  9246|\n",
            "|   max|         10|  3999|\n",
            "|dumpty|         11|  4500|\n",
            "+------+-----------+------+\n",
            "\n"
          ]
        }
      ]
    },
    {
      "cell_type": "code",
      "source": [
        "print(\"Employees whose name start with h\")\n",
        "df_name=df_csv.filter(df_csv.Name.isin('harlow')).show()"
      ],
      "metadata": {
        "colab": {
          "base_uri": "https://localhost:8080/"
        },
        "id": "SOPJWjwYPaq0",
        "outputId": "f3046d1a-5cd9-4f74-e3ba-5aa629908ebe"
      },
      "id": "SOPJWjwYPaq0",
      "execution_count": 9,
      "outputs": [
        {
          "output_type": "stream",
          "name": "stdout",
          "text": [
            "Employees whose name start with h\n",
            "+------+-----------+------+\n",
            "|  Name|employee_id|salary|\n",
            "+------+-----------+------+\n",
            "|harlow|          9|  9246|\n",
            "+------+-----------+------+\n",
            "\n"
          ]
        }
      ]
    },
    {
      "cell_type": "code",
      "source": [
        "print(\"Employees whose name start with h\")\n",
        "df_name=df_csv.filter(df_csv.Name.like('h%')).show()"
      ],
      "metadata": {
        "colab": {
          "base_uri": "https://localhost:8080/"
        },
        "id": "a6aWODZKTld1",
        "outputId": "b0d4c3a7-ebf5-44d3-b91c-bcf630954728"
      },
      "id": "a6aWODZKTld1",
      "execution_count": 11,
      "outputs": [
        {
          "output_type": "stream",
          "name": "stdout",
          "text": [
            "Employees whose name start with h\n",
            "+------+-----------+------+\n",
            "|  Name|employee_id|salary|\n",
            "+------+-----------+------+\n",
            "| harry|          7|  7230|\n",
            "|harlow|          9|  9246|\n",
            "+------+-----------+------+\n",
            "\n"
          ]
        }
      ]
    },
    {
      "cell_type": "code",
      "source": [
        "from pyspark.sql.functions import format_number\n",
        "print(\"Employees salary after 10% hike\")\n",
        "df_csv.withColumn(\"salary_after_hike\", format_number(df_csv.salary*1.10, 5)).show()"
      ],
      "metadata": {
        "colab": {
          "base_uri": "https://localhost:8080/"
        },
        "id": "FD8rObuPT_e8",
        "outputId": "29ff9fc4-25b2-4411-fad2-f2f1190cb189"
      },
      "id": "FD8rObuPT_e8",
      "execution_count": 32,
      "outputs": [
        {
          "output_type": "stream",
          "name": "stdout",
          "text": [
            "Employees salary after 10% hike\n",
            "+------+-----------+------+-----------------+\n",
            "|  Name|employee_id|salary|salary_after_hike|\n",
            "+------+-----------+------+-----------------+\n",
            "|  nita|          1|  1200|      1,320.00000|\n",
            "| akash|          2|  2890|      3,179.00000|\n",
            "|suresh|          3|   580|        638.00000|\n",
            "|   sri|          4|  2340|      2,574.00000|\n",
            "| suman|          5|  7500|      8,250.00000|\n",
            "|  uman|          6|  9650|     10,615.00000|\n",
            "| harry|          7|  7230|      7,953.00000|\n",
            "|   ben|          8|  3710|      4,081.00000|\n",
            "|harlow|          9|  9246|     10,170.60000|\n",
            "|   max|         10|  3999|      4,398.90000|\n",
            "|dumpty|         11|  4500|      4,950.00000|\n",
            "+------+-----------+------+-----------------+\n",
            "\n"
          ]
        }
      ]
    },
    {
      "cell_type": "code",
      "source": [
        "df_manager = spark.read.csv(\"/manager.csv\", header=True, inferSchema=True)\n",
        "df_manager.show()\n"
      ],
      "metadata": {
        "colab": {
          "base_uri": "https://localhost:8080/"
        },
        "id": "6cO71ZLIas4d",
        "outputId": "fdaf0868-df28-4c0f-dac8-c95705c31f63"
      },
      "id": "6cO71ZLIas4d",
      "execution_count": 54,
      "outputs": [
        {
          "output_type": "stream",
          "name": "stdout",
          "text": [
            "+-------+----------------------+------+\n",
            "|   Name|manager_of_employee_id|salary|\n",
            "+-------+----------------------+------+\n",
            "|  Harry|                     1| 10000|\n",
            "| Dexter|                     2| 12000|\n",
            "|   Aloy|                     3| 14000|\n",
            "|   Maya|                     4| 16000|\n",
            "|  Steve|                     5| 18000|\n",
            "| Dustin|                     6| 20000|\n",
            "|     El|                     7| 22000|\n",
            "|   Mike|                     8| 24000|\n",
            "|Nicolas|                     9| 26000|\n",
            "|  Mandy|                    10| 28000|\n",
            "|  Peter|                    11| 30000|\n",
            "+-------+----------------------+------+\n",
            "\n"
          ]
        }
      ]
    },
    {
      "cell_type": "code",
      "source": [
        "joined_df=df_csv.join(df_manager, df_csv.employee_id == df_manager.manager_of_employee_id, how=\"inner\")\n",
        "joined_df.show()"
      ],
      "metadata": {
        "colab": {
          "base_uri": "https://localhost:8080/"
        },
        "id": "k4kVB-nEbvEN",
        "outputId": "d5825fb1-9e38-4af8-e94a-7bdf7b7c51b2"
      },
      "id": "k4kVB-nEbvEN",
      "execution_count": 56,
      "outputs": [
        {
          "output_type": "stream",
          "name": "stdout",
          "text": [
            "+------+-----------+------+-------+----------------------+------+\n",
            "|  Name|employee_id|salary|   Name|manager_of_employee_id|salary|\n",
            "+------+-----------+------+-------+----------------------+------+\n",
            "|  nita|          1|  1200|  Harry|                     1| 10000|\n",
            "| akash|          2|  2890| Dexter|                     2| 12000|\n",
            "|suresh|          3|   580|   Aloy|                     3| 14000|\n",
            "|   sri|          4|  2340|   Maya|                     4| 16000|\n",
            "| suman|          5|  7500|  Steve|                     5| 18000|\n",
            "|  uman|          6|  9650| Dustin|                     6| 20000|\n",
            "| harry|          7|  7230|     El|                     7| 22000|\n",
            "|   ben|          8|  3710|   Mike|                     8| 24000|\n",
            "|harlow|          9|  9246|Nicolas|                     9| 26000|\n",
            "|   max|         10|  3999|  Mandy|                    10| 28000|\n",
            "|dumpty|         11|  4500|  Peter|                    11| 30000|\n",
            "+------+-----------+------+-------+----------------------+------+\n",
            "\n"
          ]
        }
      ]
    },
    {
      "cell_type": "code",
      "source": [
        "print(type(df_csv))\n",
        "print(type(df_manager))\n"
      ],
      "metadata": {
        "colab": {
          "base_uri": "https://localhost:8080/"
        },
        "id": "sGDcZ9bCdROe",
        "outputId": "f38f04d3-b052-40cf-ff92-2735f132fb88"
      },
      "id": "sGDcZ9bCdROe",
      "execution_count": 55,
      "outputs": [
        {
          "output_type": "stream",
          "name": "stdout",
          "text": [
            "<class 'pyspark.sql.dataframe.DataFrame'>\n",
            "<class 'pyspark.sql.dataframe.DataFrame'>\n"
          ]
        }
      ]
    }
  ],
  "metadata": {
    "kernelspec": {
      "display_name": "Python 3",
      "name": "python3"
    },
    "language_info": {
      "name": "python"
    },
    "required_libs": [],
    "colab": {
      "provenance": [],
      "include_colab_link": true
    }
  },
  "nbformat": 4,
  "nbformat_minor": 5
}